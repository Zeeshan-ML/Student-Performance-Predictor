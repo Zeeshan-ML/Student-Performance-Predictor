{
 "cells": [
  {
   "cell_type": "code",
   "execution_count": null,
   "id": "aadaca41-feba-4433-9ef1-24132df5bd4b",
   "metadata": {},
   "outputs": [],
   "source": [
    "import matplotlib.pyplot as plt\n",
    "import seaborn as sns\n",
    "import pandas as pd\n",
    "import numpy as np\n",
    "from sklearn.ensemble import RandomForestClassifier, GradientBoostingClassifier, AdaBoostClassifier\n",
    "from sklearn.svm import SVC\n",
    "from sklearn.linear_model import LogisticRegression\n",
    "from sklearn.neighbors import KNeighborsClassifier\n",
    "from sklearn.tree import DecisionTreeClassifier\n",
    "from sklearn.naive_bayes import GaussianNB\n",
    "from sklearn.pipeline import Pipeline\n",
    "from sklearn.model_selection import cross_val_score\n",
    "from sklearn.metrics import accuracy_score\n",
    "from sklearn.model_selection import train_test_split"
   ]
  },
  {
   "cell_type": "code",
   "execution_count": null,
   "id": "f5c08cef-ee60-471a-9c44-a8959490d309",
   "metadata": {},
   "outputs": [],
   "source": [
    "df = pd.read_csv('Student Performance.csv')"
   ]
  },
  {
   "cell_type": "code",
   "execution_count": null,
   "id": "5bfd33b3-745f-408f-87ee-479abf98d083",
   "metadata": {},
   "outputs": [],
   "source": [
    "df.head()"
   ]
  },
  {
   "cell_type": "code",
   "execution_count": null,
   "id": "5013c158-b9c2-49d5-857c-e11e9f188d3d",
   "metadata": {},
   "outputs": [],
   "source": [
    "df.tail()"
   ]
  },
  {
   "cell_type": "code",
   "execution_count": null,
   "id": "8812cfcd-8351-49d4-b50b-f980f3884008",
   "metadata": {},
   "outputs": [],
   "source": [
    "df.info()"
   ]
  },
  {
   "cell_type": "code",
   "execution_count": null,
   "id": "998dd40e-64fb-4c9d-847f-a949a086d5df",
   "metadata": {},
   "outputs": [],
   "source": [
    "df.describe()"
   ]
  },
  {
   "cell_type": "code",
   "execution_count": null,
   "id": "17cbe91e-4f36-4dcb-aaed-ac2ec7e5a3ce",
   "metadata": {},
   "outputs": [],
   "source": [
    "df.columns"
   ]
  },
  {
   "cell_type": "code",
   "execution_count": null,
   "id": "c9b7f7c4-c5d6-495d-aa39-9d05da0a53d7",
   "metadata": {},
   "outputs": [],
   "source": [
    "df.isnull().sum()"
   ]
  },
  {
   "cell_type": "code",
   "execution_count": null,
   "id": "8b27bb9e-ecf8-488c-9f15-59d7bc39248f",
   "metadata": {},
   "outputs": [],
   "source": [
    "duplicates = df[df.duplicated()]"
   ]
  },
  {
   "cell_type": "code",
   "execution_count": null,
   "id": "08813bbd-4005-43b4-a7ea-d8ec4968bc73",
   "metadata": {},
   "outputs": [],
   "source": [
    "duplicates"
   ]
  },
  {
   "cell_type": "code",
   "execution_count": null,
   "id": "ad6e6924-c5da-4b32-bcac-bbbea34e2201",
   "metadata": {},
   "outputs": [],
   "source": [
    "numerical_columns = ['StudyTimeWeekly', 'Absences','GPA']"
   ]
  },
  {
   "cell_type": "code",
   "execution_count": null,
   "id": "1958fb49-0eca-4bfa-b4a8-b4539f7a3fae",
   "metadata": {},
   "outputs": [],
   "source": [
    "count_columns = ['Absences','Age', 'Gender', 'Ethnicity', 'ParentalEducation','Tutoring', 'ParentalSupport',\n",
    "       'Extracurricular', 'Sports', 'Music', 'Volunteering']"
   ]
  },
  {
   "cell_type": "code",
   "execution_count": null,
   "id": "b8de1ae4-1274-4e1a-aba2-a93cd02f8a7e",
   "metadata": {},
   "outputs": [],
   "source": [
    "df = df.drop(columns = ['StudentID'])"
   ]
  },
  {
   "cell_type": "code",
   "execution_count": null,
   "id": "4072d69d-7ce9-4b5b-9c3c-2d9ac888775b",
   "metadata": {},
   "outputs": [],
   "source": [
    "df"
   ]
  },
  {
   "cell_type": "code",
   "execution_count": null,
   "id": "a65dc903-c77a-4251-9c37-710eb3751eb8",
   "metadata": {},
   "outputs": [],
   "source": [
    "for columns in count_columns:\n",
    "    plt.figure(figsize=(15, 7))\n",
    "    sns.countplot(data=df, x=columns)\n",
    "    plt.title(f'Countplot of {columns}')\n",
    "    plt.show()"
   ]
  },
  {
   "cell_type": "code",
   "execution_count": null,
   "id": "d0a9b49b-ae0e-48e2-9925-42b2f6498e9f",
   "metadata": {},
   "outputs": [],
   "source": [
    "# Histplots for numerical data\n",
    "for columns in numerical_columns:\n",
    "    plt.figure(figsize=(15, 8))\n",
    "    sns.histplot(data=df, x=columns,kde = True, color= 'skyblue' )\n",
    "    plt.title(f'Histplot of {columns}')\n",
    "    plt.show()"
   ]
  },
  {
   "cell_type": "code",
   "execution_count": null,
   "id": "a302440d-e182-4b5b-a3b3-ed1fc0f2faf4",
   "metadata": {},
   "outputs": [],
   "source": [
    "corr = df.corr()\n",
    "plt.figure(figsize=(20, 15))\n",
    "sns.heatmap(corr, annot=True, cmap='coolwarm', fmt='.2f')\n",
    "plt.title('Correlation Heatmap')\n",
    "plt.show()"
   ]
  },
  {
   "cell_type": "code",
   "execution_count": null,
   "id": "fe86351e-11d9-4127-b984-a845b5b0a341",
   "metadata": {},
   "outputs": [],
   "source": [
    "X = df.drop(columns = ['GradeClass'])"
   ]
  },
  {
   "cell_type": "code",
   "execution_count": null,
   "id": "7ac3dc95-18fe-48fe-91e2-798c104206cc",
   "metadata": {},
   "outputs": [],
   "source": [
    "Y = df['GradeClass']"
   ]
  },
  {
   "cell_type": "code",
   "execution_count": null,
   "id": "23fcadb2-57f0-4c40-a886-7ed95630803b",
   "metadata": {},
   "outputs": [],
   "source": [
    "X"
   ]
  },
  {
   "cell_type": "code",
   "execution_count": null,
   "id": "b8c7b9ce-9f77-4de4-8456-eb885055c980",
   "metadata": {},
   "outputs": [],
   "source": [
    "Y"
   ]
  },
  {
   "cell_type": "code",
   "execution_count": null,
   "id": "8ae4d31d-34b1-47da-9ecd-16980239a2ed",
   "metadata": {},
   "outputs": [],
   "source": [
    "from sklearn.preprocessing import StandardScaler"
   ]
  },
  {
   "cell_type": "code",
   "execution_count": null,
   "id": "11b3ad63-34d1-4e84-845b-fec1d3ced88c",
   "metadata": {},
   "outputs": [],
   "source": [
    "standard_scaler = StandardScaler()"
   ]
  },
  {
   "cell_type": "code",
   "execution_count": null,
   "id": "cb59b22d-c7c1-44f6-9331-b3cb02ddc289",
   "metadata": {},
   "outputs": [],
   "source": [
    "standard_scaler.fit(X)"
   ]
  },
  {
   "cell_type": "code",
   "execution_count": null,
   "id": "40b0b2c3-b193-4289-a976-586aeb5ed261",
   "metadata": {},
   "outputs": [],
   "source": [
    "scaled_inputs = standard_scaler.transform(X)"
   ]
  },
  {
   "cell_type": "code",
   "execution_count": null,
   "id": "3f8acc9a-c776-4d82-9775-28cc1ff02684",
   "metadata": {},
   "outputs": [],
   "source": [
    "x_train, x_test, y_train, y_test = train_test_split(scaled_inputs, Y, test_size = 0.2, random_state = 40)"
   ]
  },
  {
   "cell_type": "code",
   "execution_count": null,
   "id": "b793c37f-09d9-4cb8-a59c-8f9ad8fcd68f",
   "metadata": {},
   "outputs": [],
   "source": [
    "models = [\n",
    "    ('Random Forest' , RandomForestClassifier(random_state= 42)),\n",
    "    ('Gradient Boosting Classifier' , GradientBoostingClassifier(random_state= 42)),\n",
    "    ('Support Vector Machines' , SVC(random_state= 42)),\n",
    "    ('Logistic Regression' , LogisticRegression(random_state= 42)),\n",
    "    ('K Nearest Neighbors ' , KNeighborsClassifier()),\n",
    "    ('Decision Tree Classifier' , DecisionTreeClassifier(random_state= 42)),\n",
    "    ('Ada Boost Classifier' , AdaBoostClassifier(random_state= 42)),\n",
    "    ('Guassian Naive Bayes' , GaussianNB())\n",
    "    \n",
    "]\n",
    "\n",
    "best_model = None\n",
    "best_accuracy = 0.0\n",
    "accuracies = []\n",
    "model_names = []\n",
    "for name , model in models:\n",
    "    pipeline = Pipeline([\n",
    "        ('model' , model)\n",
    "    ])\n",
    "    \n",
    "    # Perform the cross validation\n",
    "    scores = cross_val_score(pipeline , x_train , y_train , cv = 5)\n",
    "\n",
    "    # Calculate the mean accuracy\n",
    "    mean_accuracy = scores.mean()\n",
    "\n",
    "    # Fit the pipelilne on the training data\n",
    "    pipeline.fit(x_train , y_train)\n",
    "\n",
    "    # Make presictions on the test data\n",
    "    y_pred = pipeline.predict(x_test)\n",
    "\n",
    "    # Calculating the accuracy Scores\n",
    "    accuracy = accuracy_score(y_test , y_pred)\n",
    "    accuracies.append(accuracy)\n",
    "    model_names.append(name)\n",
    "    # Displaying the performance Metrics\n",
    "    \n",
    "    print(\"Model : \" , name)\n",
    "    print(\"Cross Validation Score : \" , mean_accuracy)\n",
    "    print(\"Test Accuracy : \" , accuracy)\n",
    "    print()\n",
    "\n",
    "    # Checking if the current model had the best accuracy\n",
    "    if accuracy > best_accuracy:\n",
    "        best_accuracy = accuracy\n",
    "        best_model = pipeline\n",
    "\n",
    "# Retrieve the best model\n",
    "\n",
    "\n",
    "\n"
   ]
  },
  {
   "cell_type": "code",
   "execution_count": null,
   "id": "ea237182-5231-4537-bf9b-787abdfebeb3",
   "metadata": {},
   "outputs": [],
   "source": [
    "print(\"Best Model : \", best_model)\n",
    "plt.figure(figsize=(10, 6))\n",
    "plt.bar(model_names, accuracies, color='skyblue')\n",
    "plt.xlabel('Models')\n",
    "plt.ylabel('Test Accuracy')\n",
    "plt.title('Test Accuracy of Different Models')\n",
    "plt.xticks(rotation=45, ha='right')\n",
    "plt.tight_layout()\n",
    "plt.show()"
   ]
  },
  {
   "cell_type": "code",
   "execution_count": null,
   "id": "03e77401-cad0-4758-9fc6-a42498c77ac8",
   "metadata": {},
   "outputs": [],
   "source": [
    "\"\"\"prediction = models[1][1]\n",
    "training_data = pd.DataFrame([\n",
    "    [17,1,0,2,19.833723,7,1,2,0,0,1,0,2.929196],\n",
    "    [18,0,0,1,15.40875606,0,0,1,0,0,0,0,3.042914833]\n",
    "    # Add more training data here\n",
    "], columns=['Age', 'Gender', 'Ethnicity', 'ParentalEducation', 'StudyTimeWeekly',\n",
    "       'Absences', 'Tutoring', 'ParentalSupport', 'Extracurricular', 'Sports',\n",
    "       'Music', 'Volunteering', 'GPA'])\n",
    "  #  [18,0,0,1,15.40875606,0,0,1,3.042914833,0],\n",
    "    #[16,1,0,1,18.44446636,0,0,3,3.57347421,0]]\n",
    "#standard_scaler.fit(data_to_predict)\n",
    "#standard_scaler.fit(training_data)\n",
    "data_to_predict = [\n",
    "    [17,1,0,2,19.833723,7,1,2,0,0,1,0,2.929196],\n",
    "    [18,0,0,1,15.40875606,0,0,1,0,0,0,0,3.042914833]\n",
    "]\n",
    "\n",
    "# Convert data to DataFrame with the same columns as training data\n",
    "df_to_predict = pd.DataFrame(data_to_predict, columns=training_data.columns)\n",
    "\n",
    "# Transform data using the fitted StandardScaler\n",
    "data_to_predict_scaled = standard_scaler.transform(df_to_predict)\n",
    "\n",
    "# Make predictions\n",
    "predictions = prediction.predict(data_to_predict_scaled)\n",
    "\n",
    "\n",
    "# Display predictions\n",
    "for prediction in predictions:\n",
    "    print(prediction)\"\"\""
   ]
  },
  {
   "cell_type": "code",
   "execution_count": null,
   "id": "fa245a56-d069-4847-a839-216f5664a23a",
   "metadata": {},
   "outputs": [],
   "source": [
    "y_test.unique()"
   ]
  },
  {
   "cell_type": "code",
   "execution_count": null,
   "id": "7d57c87e-d0f2-4bef-bb1c-d69f70b7e8ed",
   "metadata": {},
   "outputs": [],
   "source": [
    "y_pred"
   ]
  },
  {
   "cell_type": "code",
   "execution_count": null,
   "id": "14c3dfad-9e3c-4b5d-ba16-0286c09a7763",
   "metadata": {},
   "outputs": [],
   "source": [
    "data = {\n",
    "    'Predicted Output': y_pred,\n",
    "    'Actual Output': y_test\n",
    "}\n",
    "\n",
    "df1 = pd.DataFrame(data)"
   ]
  },
  {
   "cell_type": "code",
   "execution_count": null,
   "id": "7f2bbfb3-44f3-4c68-830f-eb7a1ba2a9d3",
   "metadata": {},
   "outputs": [],
   "source": [
    "df1"
   ]
  },
  {
   "cell_type": "code",
   "execution_count": null,
   "id": "6034070f-fd4b-4b8c-a779-5cfbee76d2ad",
   "metadata": {},
   "outputs": [],
   "source": [
    "df_sorted = df1.sort_index()\n",
    "df_sorted"
   ]
  },
  {
   "cell_type": "code",
   "execution_count": null,
   "id": "45d08ed9-8b40-406f-8143-f5c7bc960457",
   "metadata": {},
   "outputs": [],
   "source": [
    "df_sorted.describe()"
   ]
  },
  {
   "cell_type": "code",
   "execution_count": null,
   "id": "e81d9493-90d7-4e27-a678-d3c2ef3fdd76",
   "metadata": {},
   "outputs": [],
   "source": [
    "plt.figure(figsize=(12, 6))\n",
    "\n",
    "plt.subplot(1, 2, 1)\n",
    "sns.countplot(x='Predicted Output', data=df_sorted)\n",
    "plt.title('Count of Predicted Output')\n",
    "\n",
    "# Create a count plot for Actual Output\n",
    "plt.subplot(1, 2, 2)\n",
    "sns.countplot(x='Actual Output', data=df_sorted)\n",
    "plt.title('Count of Actual Output')\n",
    "\n",
    "# Show the plot\n",
    "plt.tight_layout()\n",
    "plt.show()"
   ]
  },
  {
   "cell_type": "code",
   "execution_count": null,
   "id": "22a195c4-52e6-4ae3-b41d-7e87bd7fab69",
   "metadata": {},
   "outputs": [],
   "source": []
  },
  {
   "cell_type": "code",
   "execution_count": null,
   "id": "f5b213e5-e5cc-4d4f-87fe-d752569687b9",
   "metadata": {},
   "outputs": [],
   "source": []
  }
 ],
 "metadata": {
  "kernelspec": {
   "display_name": "Python 3 (ipykernel)",
   "language": "python",
   "name": "python3"
  },
  "language_info": {
   "codemirror_mode": {
    "name": "ipython",
    "version": 3
   },
   "file_extension": ".py",
   "mimetype": "text/x-python",
   "name": "python",
   "nbconvert_exporter": "python",
   "pygments_lexer": "ipython3",
   "version": "3.11.5"
  }
 },
 "nbformat": 4,
 "nbformat_minor": 5
}
